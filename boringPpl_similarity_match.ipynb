{
  "nbformat": 4,
  "nbformat_minor": 0,
  "metadata": {
    "colab": {
      "name": "Copy of boringPpl similarity match.ipynb",
      "provenance": [],
      "collapsed_sections": [],
      "toc_visible": true,
      "include_colab_link": true
    },
    "kernelspec": {
      "name": "python3",
      "display_name": "Python 3"
    }
  },
  "cells": [
    {
      "cell_type": "markdown",
      "metadata": {
        "id": "view-in-github",
        "colab_type": "text"
      },
      "source": [
        "<a href=\"https://colab.research.google.com/github/iamkaiwei/3min-Android/blob/master/boringPpl_similarity_match.ipynb\" target=\"_parent\"><img src=\"https://colab.research.google.com/assets/colab-badge.svg\" alt=\"Open In Colab\"/></a>"
      ]
    },
    {
      "cell_type": "markdown",
      "metadata": {
        "id": "9nfnFvIoSLIS",
        "colab_type": "text"
      },
      "source": [
        "# Standard Imports"
      ]
    },
    {
      "cell_type": "code",
      "metadata": {
        "id": "NAlZQtlYvEZr",
        "colab_type": "code",
        "colab": {}
      },
      "source": [
        "NULL_COMPANY_RANK = 300000"
      ],
      "execution_count": 25,
      "outputs": []
    },
    {
      "cell_type": "code",
      "metadata": {
        "id": "l1CS5RJeYlZk",
        "colab_type": "code",
        "colab": {
          "base_uri": "https://localhost:8080/",
          "height": 71
        },
        "outputId": "f3af80e4-8847-437f-a060-526e1048bc05"
      },
      "source": [
        "# system imports\n",
        "import sys\n",
        "import re\n",
        "import json\n",
        "import string\n",
        "\n",
        "# 3rd party imports\n",
        "import pandas as pd\n",
        "import numpy as np\n",
        "import seaborn as sns\n",
        "import matplotlib.pyplot as plt\n",
        "\n",
        "# config\n",
        "plt.style.use('ggplot')\n",
        "np.set_printoptions(threshold=sys.maxsize)"
      ],
      "execution_count": 1,
      "outputs": [
        {
          "output_type": "stream",
          "text": [
            "/usr/local/lib/python3.6/dist-packages/statsmodels/tools/_testing.py:19: FutureWarning: pandas.util.testing is deprecated. Use the functions in the public API at pandas.testing instead.\n",
            "  import pandas.util.testing as tm\n"
          ],
          "name": "stderr"
        }
      ]
    },
    {
      "cell_type": "markdown",
      "metadata": {
        "id": "UblRKUmeSHwO",
        "colab_type": "text"
      },
      "source": [
        "# Import Google Drive Auth"
      ]
    },
    {
      "cell_type": "code",
      "metadata": {
        "id": "3eIA1LXijKcC",
        "colab_type": "code",
        "colab": {}
      },
      "source": [
        "from google.colab import auth\n",
        "auth.authenticate_user()\n",
        "import gspread\n",
        "from oauth2client.client import GoogleCredentials\n",
        "gc = gspread.authorize(GoogleCredentials.get_application_default())"
      ],
      "execution_count": 2,
      "outputs": []
    },
    {
      "cell_type": "markdown",
      "metadata": {
        "id": "d3pRUukOULIo",
        "colab_type": "text"
      },
      "source": [
        "# Import Data from Google Sheets Link"
      ]
    },
    {
      "cell_type": "code",
      "metadata": {
        "id": "mve6MJ0TjxXD",
        "colab_type": "code",
        "colab": {}
      },
      "source": [
        "wb = gc.open_by_url('https://docs.google.com/spreadsheets/d/1RIS29R2HkVxxonr8DCTgfttZtcLraw1mj5dwn06_SMk/edit?pli=1#gid=1743435448')"
      ],
      "execution_count": 3,
      "outputs": []
    },
    {
      "cell_type": "code",
      "metadata": {
        "id": "uGq5SDAIkbZG",
        "colab_type": "code",
        "colab": {}
      },
      "source": [
        "sheet = wb.worksheet('intent')\n",
        "data = sheet.get_all_values()"
      ],
      "execution_count": 4,
      "outputs": []
    },
    {
      "cell_type": "code",
      "metadata": {
        "id": "ksXtErdqjXGs",
        "colab_type": "code",
        "colab": {}
      },
      "source": [
        "df_1 = pd.DataFrame(data)       # convert object from list to df\n",
        "df_1.columns = df_1.iloc[0,:]   # convert first row to headers\n",
        "df_1 = df_1.iloc[1:]            # trim first row"
      ],
      "execution_count": 5,
      "outputs": []
    },
    {
      "cell_type": "code",
      "metadata": {
        "id": "igAt9S3m4_bY",
        "colab_type": "code",
        "colab": {}
      },
      "source": [
        "# Base cleaning\n",
        "\n",
        "df_1['experience_clean'] = df_1['experience'].apply(lambda x: json.loads(x))\n",
        "df_1['education_clean'] = df_1['education'].apply(lambda x: json.loads(x))\n",
        "df_1['_id'] = df_1.index"
      ],
      "execution_count": 6,
      "outputs": []
    },
    {
      "cell_type": "code",
      "metadata": {
        "id": "uJxrhN3OTnEP",
        "colab_type": "code",
        "colab": {
          "base_uri": "https://localhost:8080/",
          "height": 561
        },
        "outputId": "9358d134-3821-4c49-ea15-4b8d5ead31cc"
      },
      "source": [
        "df_1.head()"
      ],
      "execution_count": 7,
      "outputs": [
        {
          "output_type": "execute_result",
          "data": {
            "text/html": [
              "<div>\n",
              "<style scoped>\n",
              "    .dataframe tbody tr th:only-of-type {\n",
              "        vertical-align: middle;\n",
              "    }\n",
              "\n",
              "    .dataframe tbody tr th {\n",
              "        vertical-align: top;\n",
              "    }\n",
              "\n",
              "    .dataframe thead th {\n",
              "        text-align: right;\n",
              "    }\n",
              "</style>\n",
              "<table border=\"1\" class=\"dataframe\">\n",
              "  <thead>\n",
              "    <tr style=\"text-align: right;\">\n",
              "      <th></th>\n",
              "      <th>Domain</th>\n",
              "      <th>intent</th>\n",
              "      <th>subtitle</th>\n",
              "      <th>experience</th>\n",
              "      <th>education</th>\n",
              "      <th>experience_clean</th>\n",
              "      <th>education_clean</th>\n",
              "      <th>_id</th>\n",
              "    </tr>\n",
              "  </thead>\n",
              "  <tbody>\n",
              "    <tr>\n",
              "      <th>1</th>\n",
              "      <td>Software Development</td>\n",
              "      <td>Keep the coding momentum</td>\n",
              "      <td>Intern at Enspire Capital</td>\n",
              "      <td>[{\"roles\": [{\"name\": \"Intern\", \"duration\": \"Ju...</td>\n",
              "      <td>[{\"school\": \"Singapore University of Technolog...</td>\n",
              "      <td>[{'roles': [{'name': 'Intern', 'duration': 'Ju...</td>\n",
              "      <td>[{'school': 'Singapore University of Technolog...</td>\n",
              "      <td>1</td>\n",
              "    </tr>\n",
              "    <tr>\n",
              "      <th>2</th>\n",
              "      <td>Natural Language Processing</td>\n",
              "      <td>Learning and exploring powerful python librari...</td>\n",
              "      <td>Passionate about data science | Ex-SIA</td>\n",
              "      <td>[{\"roles\": [{\"name\": \"Data Analyst\", \"duration...</td>\n",
              "      <td>[{\"school\": \"Singapore Management University\",...</td>\n",
              "      <td>[{'roles': [{'name': 'Data Analyst', 'duration...</td>\n",
              "      <td>[{'school': 'Singapore Management University',...</td>\n",
              "      <td>2</td>\n",
              "    </tr>\n",
              "    <tr>\n",
              "      <th>3</th>\n",
              "      <td>Data Analytics</td>\n",
              "      <td>Targeted goal: be able to conduct data analyse...</td>\n",
              "      <td>Aspiring Product Manager | Data Scientist | Pr...</td>\n",
              "      <td>[{\"roles\": [{\"name\": \"Quantitative Analyst, Ma...</td>\n",
              "      <td>[{\"school\": \"University of Cambridge\", \"degree...</td>\n",
              "      <td>[{'roles': [{'name': 'Quantitative Analyst, Ma...</td>\n",
              "      <td>[{'school': 'University of Cambridge', 'degree...</td>\n",
              "      <td>3</td>\n",
              "    </tr>\n",
              "    <tr>\n",
              "      <th>4</th>\n",
              "      <td>Data Analytics</td>\n",
              "      <td>I want to learn about machine learning and dat...</td>\n",
              "      <td>Regional Business Analyst Intern at Ninja Van</td>\n",
              "      <td>[{\"roles\": [{\"name\": \"Regional Business Analys...</td>\n",
              "      <td>[{\"school\": \"National University of Singapore\"...</td>\n",
              "      <td>[{'roles': [{'name': 'Regional Business Analys...</td>\n",
              "      <td>[{'school': 'National University of Singapore'...</td>\n",
              "      <td>4</td>\n",
              "    </tr>\n",
              "    <tr>\n",
              "      <th>5</th>\n",
              "      <td>Python programming</td>\n",
              "      <td>Learn the basic functions of python, learn how...</td>\n",
              "      <td>Data Analyst Intern at DBS Bank</td>\n",
              "      <td>[{\"roles\": [{\"name\": \"Data Analyst Intern\", \"d...</td>\n",
              "      <td>[{\"school\": \"Singapore Management University\",...</td>\n",
              "      <td>[{'roles': [{'name': 'Data Analyst Intern', 'd...</td>\n",
              "      <td>[{'school': 'Singapore Management University',...</td>\n",
              "      <td>5</td>\n",
              "    </tr>\n",
              "  </tbody>\n",
              "</table>\n",
              "</div>"
            ],
            "text/plain": [
              "0                       Domain  ... _id\n",
              "1         Software Development  ...   1\n",
              "2  Natural Language Processing  ...   2\n",
              "3               Data Analytics  ...   3\n",
              "4               Data Analytics  ...   4\n",
              "5           Python programming  ...   5\n",
              "\n",
              "[5 rows x 8 columns]"
            ]
          },
          "metadata": {
            "tags": []
          },
          "execution_count": 7
        }
      ]
    },
    {
      "cell_type": "code",
      "metadata": {
        "id": "t4Z1AJWelMQv",
        "colab_type": "code",
        "colab": {
          "base_uri": "https://localhost:8080/",
          "height": 188
        },
        "outputId": "257c1539-0523-4627-98a2-0031e4ffbddc"
      },
      "source": [
        "df_1.iloc[0]['experience']"
      ],
      "execution_count": 8,
      "outputs": [
        {
          "output_type": "execute_result",
          "data": {
            "application/vnd.google.colaboratory.intrinsic+json": {
              "type": "string"
            },
            "text/plain": [
              "'[{\"roles\": [{\"name\": \"Intern\", \"duration\": \"Jul 2020 ‚Äì Present\", \"location\": \"Singapore\", \"description\": \"\"}], \"company\": \"Enspire Capital\", \"company_crunchbase_slug\": \"enspire-capital\", \"company_cb_rank\": \"12,296\"}, {\"roles\": [{\"name\": \"Summer Intern\", \"duration\": \"Jun 2020 ‚Äì Present\", \"location\": \"\", \"description\": \"\"}], \"company\": \"BANSEA\", \"company_crunchbase_slug\": \"bansea\", \"company_cb_rank\": \"13,447\"}, {\"roles\": [{\"name\": \"Associate\", \"duration\": \"Jun 2020 ‚Äì Present\", \"location\": \"\", \"description\": \"\"}, {\"name\": \"Investment Analyst\", \"duration\": \"Jan 2020 ‚Äì Jun 2020\", \"location\": \"\", \"description\": \"\"}, {\"name\": \"Analyst in Training\", \"duration\": \"Aug 2019 ‚Äì Jan 2020\", \"location\": \"\", \"description\": \"\"}], \"company\": \"Prot√©g√© Ventures\", \"company_crunchbase_slug\": \"prot√©g√©-ventures\", \"company_cb_rank\": \"36,589\"}, {\"roles\": [{\"name\": \"President\", \"duration\": \"Nov 2019 ‚Äì Present\", \"location\": \"Singapore\", \"description\": \"Organising events, spearheading new projects, to increase vibrancy of the club and spread awareness of sustainability. Liaising with both internal and external stakeholders to increase the visibility of Greenprint. Also nominated by NEA to represent Singapore at the Asean Youth Environment Forum in Phuket, 2019.\"}], \"company\": \"Greenprint\", \"company_crunchbase_slug\": \"greenprint\", \"company_cb_rank\": \"152,532\"}, {\"roles\": [{\"name\": \"COO/CFO\", \"duration\": \"Jan 2020 ‚Äì Jul 2020\", \"location\": \"Singapore\", \"description\": \"\"}], \"company\": \"Savour!\"}, {\"roles\": [{\"name\": \"Intern\", \"duration\": \"May 2020 ‚Äì Jun 2020\", \"location\": \"Singapore\", \"description\": \"\"}], \"company\": \"AIA Singapore\"}, {\"roles\": [{\"name\": \"Peace Ambassador\", \"duration\": \"Feb 2020 ‚Äì May 2020\", \"location\": \"\", \"description\": \"\"}], \"company\": \"Humanitarian Affairs Asia\"}, {\"roles\": [{\"name\": \"Business Development Intern\", \"duration\": \"Oct 2019 ‚Äì May 2020\", \"location\": \"\", \"description\": \"\"}], \"company\": \"MatchMde\"}, {\"roles\": [{\"name\": \"Sales And Marketing Intern\", \"duration\": \"Jan 2020\", \"location\": \"Yangon, Myanmar\", \"description\": \"\"}], \"company\": \"ZigWay.co\"}, {\"roles\": [{\"name\": \"Co-Founder\", \"duration\": \"Aug 2019 ‚Äì Nov 2019\", \"location\": \"\", \"description\": \"Working on launching a food wastage startup after receiving funding from SUTD\"}], \"company\": \"Afoodable\"}]'"
            ]
          },
          "metadata": {
            "tags": []
          },
          "execution_count": 8
        }
      ]
    },
    {
      "cell_type": "code",
      "metadata": {
        "id": "Wd_C7oaBzt_Q",
        "colab_type": "code",
        "colab": {}
      },
      "source": [
        "import json\n",
        "from datetime import datetime\n",
        "\n",
        "\n",
        "def clean_linkedin_date(dt):\n",
        "  \"\"\"\n",
        "  Converts linkedin date to pd.Timestamp\n",
        "\n",
        "  dt: str, a string date \n",
        "  \"\"\"\n",
        "  try:\n",
        "    return pd.Timestamp(dt)\n",
        "  except:\n",
        "    if 'Present' in dt:\n",
        "      # TODO: should be last updated linkedin data feed\n",
        "      return pd.Timestamp(datetime.now())\n",
        "    else:\n",
        "      raise Exception('Unknown date format found in `duration`')\n",
        "\n",
        "\n",
        "def clean_and_expand_role(role):\n",
        "  \"\"\"\n",
        "  Parses out the role object from linkein\n",
        "\n",
        "  role: dict, linkedin role object\n",
        "\n",
        "  Note: created features prepended with _\n",
        "  \"\"\"\n",
        "  out = role.copy()\n",
        "  out['duration_clean'] = out['duration'].encode('ascii', 'ignore').decode()\n",
        "  out['_start_date'] = clean_linkedin_date(out['duration_clean'].split('  ')[0])\n",
        "  try:\n",
        "    out['_end_date'] = clean_linkedin_date(out['duration_clean'].split('  ')[1])\n",
        "  \n",
        "  except IndexError:\n",
        "    out['_end_date'] = out['_start_date']\n",
        "\n",
        "  out['_duration_tdelta'] = out['_end_date'] - out['_start_date']\n",
        "  return out\n",
        "\n",
        "\n",
        "def parse_experience(experience_id, experience, take_latest_roles=3):\n",
        "  \"\"\"\n",
        "  Creates the feature columns from raw linkedin experiences\n",
        "\n",
        "  experience_id: int, uid for experience\n",
        "  experience: dict, linkedin experience object\n",
        "  take_latest_roles: int, specify number of latest roles to extract from\n",
        "  \"\"\"\n",
        "  if not experience:\n",
        "    return [{}, {}, {}]\n",
        "\n",
        "  try:\n",
        "    latest_roles = []\n",
        "    for company_idx, company in enumerate(experience):\n",
        "      # TODO: remove if linkedin guarentees chron order of roles\n",
        "      date_sorted_roles = sorted(\n",
        "          company['roles'], \n",
        "          key=lambda x: clean_linkedin_date(\n",
        "              dt=clean_and_expand_role(role=x)['_end_date']\n",
        "          ),\n",
        "          reverse=True)\n",
        "      \n",
        "      for role in date_sorted_roles:\n",
        "        clean_role = clean_and_expand_role(role=role)\n",
        "        clean_role['role_id'] = len(latest_roles)\n",
        "        clean_role['company_id'] = company_idx\n",
        "        clean_role['company_name'] = company['company']\n",
        "        try: \n",
        "          clean_role['company_cb_rank'] = company['company_cb_rank']\n",
        "        except KeyError as e:\n",
        "          clean_role['company_cb_rank'] = NULL_COMPANY_RANK\n",
        "        clean_role = {\n",
        "            '{}th_role-{}'.format(len(latest_roles), k): v\n",
        "            for k,v in clean_role.items()\n",
        "        }\n",
        "        if len(latest_roles) < take_latest_roles:\n",
        "          latest_roles.append(clean_role)\n",
        "        else:\n",
        "          break\n",
        "      \n",
        "    out = []\n",
        "    for i in range(take_latest_roles):\n",
        "      try:\n",
        "        out.append(latest_roles[i])\n",
        "      except:\n",
        "        if len(out) == 0:\n",
        "          raise Exception(\n",
        "              'This individual does not have {} roles.'\n",
        "              .format(take_latest_roles)\n",
        "          )\n",
        "        \n",
        "        out.append({k: np.nan for k in out[0]})\n",
        "\n",
        "    return out\n",
        "\n",
        "  except Exception as e:\n",
        "    print('Problem experience: ', experience_id)\n",
        "    print('Problem company: ', company)\n",
        "    print('Problem role: ', role)\n",
        "    print('Problem role: ', role)\n",
        "    raise(e)"
      ],
      "execution_count": 26,
      "outputs": []
    },
    {
      "cell_type": "markdown",
      "metadata": {
        "id": "q4z0VUXoObbV",
        "colab_type": "text"
      },
      "source": [
        "See `df_3` is derived from `df_1`, but only contains the parsed experience column attributes."
      ]
    },
    {
      "cell_type": "code",
      "metadata": {
        "id": "cCKj2WoCIF0I",
        "colab_type": "code",
        "colab": {}
      },
      "source": [
        "df_2 = df_1.apply(axis=1, \n",
        "           func=lambda x: parse_experience(experience_id=x['_id'],\n",
        "                                           experience=x['experience_clean']),\n",
        "           result_type='expand')\n",
        "df_2.columns = [str(item) for item in df_2.columns]\n",
        "\n",
        "# TODO: find the bug causing dropna here; 0th getting added to all\n",
        "dfs = [\n",
        "       pd.DataFrame(df_2[col].values.tolist()).dropna(axis=1, how='all') \n",
        "       for col in df_2.columns\n",
        "      ]\n",
        "\n",
        "df_3 = pd.DataFrame([])\n",
        "for df in dfs:\n",
        "  if df_3.empty:\n",
        "    df_3 = df\n",
        "  else:\n",
        "    df_3 = df_3.join(other=df)"
      ],
      "execution_count": 27,
      "outputs": []
    },
    {
      "cell_type": "code",
      "metadata": {
        "id": "JLn8xw51tKNy",
        "colab_type": "code",
        "colab": {
          "base_uri": "https://localhost:8080/",
          "height": 649
        },
        "outputId": "8e2ab937-e0ff-42d2-8d1c-e0194d0fc99e"
      },
      "source": [
        "df_1.iloc[1].experience_clean"
      ],
      "execution_count": 28,
      "outputs": [
        {
          "output_type": "execute_result",
          "data": {
            "text/plain": [
              "[{'company': 'Juwwa Inc',\n",
              "  'roles': [{'description': '',\n",
              "    'duration': 'Jan 2020 ‚Äì Present',\n",
              "    'location': 'Tokyo,Japan',\n",
              "    'name': 'Data Analyst'}]},\n",
              " {'company': 'Singapore Airlines',\n",
              "  'company_cb_rank': '48,179',\n",
              "  'company_crunchbase_slug': 'singapore-airlines',\n",
              "  'roles': [{'description': '',\n",
              "    'duration': 'Mar 2018 ‚Äì Oct 2019',\n",
              "    'location': 'Singapore',\n",
              "    'name': 'Business Analyst - Revenue Generation and Customer Experience'}]},\n",
              " {'company': 'TrustSphere',\n",
              "  'company_cb_rank': '91,371',\n",
              "  'company_crunchbase_slug': 'trustsphere',\n",
              "  'roles': [{'description': '',\n",
              "    'duration': 'Apr 2017 ‚Äì Feb 2018',\n",
              "    'location': 'Singapore',\n",
              "    'name': 'Sales and People Analyst'}]},\n",
              " {'company': 'Mahindra Comviva',\n",
              "  'company_cb_rank': '124,949',\n",
              "  'company_crunchbase_slug': 'mahindra-comviva',\n",
              "  'roles': [{'description': '',\n",
              "    'duration': 'Nov 2014 ‚Äì Jul 2016',\n",
              "    'location': 'Gurgaon, India',\n",
              "    'name': 'Software Engineer'}]},\n",
              " {'company': 'CNN-IBN',\n",
              "  'roles': [{'description': 'Writing sots, collecting transcripts and writing for the teleprompter, editing',\n",
              "    'duration': 'Sep 2014 ‚Äì Oct 2014',\n",
              "    'location': 'New Delhi, India',\n",
              "    'name': 'Copydesk Intern'}]},\n",
              " {'company': 'NIELIT',\n",
              "  'roles': [{'description': '',\n",
              "    'duration': 'Jan 2012 ‚Äì Feb 2012',\n",
              "    'location': 'New Delhi Area, India',\n",
              "    'name': 'Web Developer intern'}]}]"
            ]
          },
          "metadata": {
            "tags": []
          },
          "execution_count": 28
        }
      ]
    },
    {
      "cell_type": "code",
      "metadata": {
        "id": "bFLdauxzl77M",
        "colab_type": "code",
        "colab": {
          "base_uri": "https://localhost:8080/",
          "height": 646
        },
        "outputId": "06019e90-dc53-47da-c982-6dc75fb93aa7"
      },
      "source": [
        "df_3.dtypes"
      ],
      "execution_count": 29,
      "outputs": [
        {
          "output_type": "execute_result",
          "data": {
            "text/plain": [
              "0th_role-name                         object\n",
              "0th_role-duration                     object\n",
              "0th_role-location                     object\n",
              "0th_role-description                  object\n",
              "0th_role-duration_clean               object\n",
              "0th_role-_start_date          datetime64[ns]\n",
              "0th_role-_end_date            datetime64[ns]\n",
              "0th_role-_duration_tdelta    timedelta64[ns]\n",
              "0th_role-role_id                     float64\n",
              "0th_role-company_id                  float64\n",
              "0th_role-company_name                 object\n",
              "0th_role-company_cb_rank              object\n",
              "1th_role-name                         object\n",
              "1th_role-duration                     object\n",
              "1th_role-location                     object\n",
              "1th_role-description                  object\n",
              "1th_role-duration_clean               object\n",
              "1th_role-_start_date          datetime64[ns]\n",
              "1th_role-_end_date            datetime64[ns]\n",
              "1th_role-_duration_tdelta    timedelta64[ns]\n",
              "1th_role-role_id                     float64\n",
              "1th_role-company_id                  float64\n",
              "1th_role-company_name                 object\n",
              "1th_role-company_cb_rank              object\n",
              "2th_role-name                         object\n",
              "2th_role-duration                     object\n",
              "2th_role-location                     object\n",
              "2th_role-description                  object\n",
              "2th_role-duration_clean               object\n",
              "2th_role-_start_date          datetime64[ns]\n",
              "2th_role-_end_date            datetime64[ns]\n",
              "2th_role-_duration_tdelta    timedelta64[ns]\n",
              "2th_role-role_id                     float64\n",
              "2th_role-company_id                  float64\n",
              "2th_role-company_name                 object\n",
              "2th_role-company_cb_rank              object\n",
              "dtype: object"
            ]
          },
          "metadata": {
            "tags": []
          },
          "execution_count": 29
        }
      ]
    },
    {
      "cell_type": "markdown",
      "metadata": {
        "id": "sRaD4pdkAlNk",
        "colab_type": "text"
      },
      "source": [
        "Looking at the most recent role"
      ]
    },
    {
      "cell_type": "code",
      "metadata": {
        "id": "EfDPUPtmVaQm",
        "colab_type": "code",
        "colab": {}
      },
      "source": [
        "most_recent_role = [col for col in df_3.columns if '0th' in col]\n",
        "one_hot_columns = ['0th_role-location', '0th_role-company_name']"
      ],
      "execution_count": 30,
      "outputs": []
    },
    {
      "cell_type": "code",
      "metadata": {
        "id": "nrjvxAmbmZOn",
        "colab_type": "code",
        "colab": {
          "base_uri": "https://localhost:8080/",
          "height": 411
        },
        "outputId": "e50dc7bd-7929-46de-8394-6fd8baf0938b"
      },
      "source": [
        "df_3[most_recent_role].head()"
      ],
      "execution_count": 31,
      "outputs": [
        {
          "output_type": "execute_result",
          "data": {
            "text/html": [
              "<div>\n",
              "<style scoped>\n",
              "    .dataframe tbody tr th:only-of-type {\n",
              "        vertical-align: middle;\n",
              "    }\n",
              "\n",
              "    .dataframe tbody tr th {\n",
              "        vertical-align: top;\n",
              "    }\n",
              "\n",
              "    .dataframe thead th {\n",
              "        text-align: right;\n",
              "    }\n",
              "</style>\n",
              "<table border=\"1\" class=\"dataframe\">\n",
              "  <thead>\n",
              "    <tr style=\"text-align: right;\">\n",
              "      <th></th>\n",
              "      <th>0th_role-name</th>\n",
              "      <th>0th_role-duration</th>\n",
              "      <th>0th_role-location</th>\n",
              "      <th>0th_role-description</th>\n",
              "      <th>0th_role-duration_clean</th>\n",
              "      <th>0th_role-_start_date</th>\n",
              "      <th>0th_role-_end_date</th>\n",
              "      <th>0th_role-_duration_tdelta</th>\n",
              "      <th>0th_role-role_id</th>\n",
              "      <th>0th_role-company_id</th>\n",
              "      <th>0th_role-company_name</th>\n",
              "      <th>0th_role-company_cb_rank</th>\n",
              "    </tr>\n",
              "  </thead>\n",
              "  <tbody>\n",
              "    <tr>\n",
              "      <th>0</th>\n",
              "      <td>Intern</td>\n",
              "      <td>Jul 2020 ‚Äì Present</td>\n",
              "      <td>Singapore</td>\n",
              "      <td></td>\n",
              "      <td>Jul 2020  Present</td>\n",
              "      <td>2020-07-01</td>\n",
              "      <td>2020-08-19 12:42:01.956788</td>\n",
              "      <td>49 days 12:42:01.956788</td>\n",
              "      <td>0.0</td>\n",
              "      <td>0.0</td>\n",
              "      <td>Enspire Capital</td>\n",
              "      <td>12,296</td>\n",
              "    </tr>\n",
              "    <tr>\n",
              "      <th>1</th>\n",
              "      <td>Data Analyst</td>\n",
              "      <td>Jan 2020 ‚Äì Present</td>\n",
              "      <td>Tokyo,Japan</td>\n",
              "      <td></td>\n",
              "      <td>Jan 2020  Present</td>\n",
              "      <td>2020-01-01</td>\n",
              "      <td>2020-08-19 12:42:01.959239</td>\n",
              "      <td>231 days 12:42:01.959239</td>\n",
              "      <td>0.0</td>\n",
              "      <td>0.0</td>\n",
              "      <td>Juwwa Inc</td>\n",
              "      <td>300000</td>\n",
              "    </tr>\n",
              "    <tr>\n",
              "      <th>2</th>\n",
              "      <td>Quantitative Analyst, Marketing</td>\n",
              "      <td>Sep 2019 ‚Äì Present</td>\n",
              "      <td></td>\n",
              "      <td>I work on Google Search &amp; Assistant Marketing ...</td>\n",
              "      <td>Sep 2019  Present</td>\n",
              "      <td>2019-09-01</td>\n",
              "      <td>2020-08-19 12:42:01.960634</td>\n",
              "      <td>353 days 12:42:01.960634</td>\n",
              "      <td>0.0</td>\n",
              "      <td>0.0</td>\n",
              "      <td>Google</td>\n",
              "      <td>276</td>\n",
              "    </tr>\n",
              "    <tr>\n",
              "      <th>3</th>\n",
              "      <td>Regional Business Analyst Intern</td>\n",
              "      <td>Apr 2020 ‚Äì Present</td>\n",
              "      <td>Singapore</td>\n",
              "      <td></td>\n",
              "      <td>Apr 2020  Present</td>\n",
              "      <td>2020-04-01</td>\n",
              "      <td>2020-08-19 12:42:01.961771</td>\n",
              "      <td>140 days 12:42:01.961771</td>\n",
              "      <td>0.0</td>\n",
              "      <td>0.0</td>\n",
              "      <td>Ninja Van</td>\n",
              "      <td>1,953</td>\n",
              "    </tr>\n",
              "    <tr>\n",
              "      <th>4</th>\n",
              "      <td>Data Analyst Intern</td>\n",
              "      <td>May 2020 ‚Äì Present</td>\n",
              "      <td></td>\n",
              "      <td></td>\n",
              "      <td>May 2020  Present</td>\n",
              "      <td>2020-05-01</td>\n",
              "      <td>2020-08-19 12:42:01.963131</td>\n",
              "      <td>110 days 12:42:01.963131</td>\n",
              "      <td>0.0</td>\n",
              "      <td>0.0</td>\n",
              "      <td>DBS Bank</td>\n",
              "      <td>42,439</td>\n",
              "    </tr>\n",
              "  </tbody>\n",
              "</table>\n",
              "</div>"
            ],
            "text/plain": [
              "                      0th_role-name  ... 0th_role-company_cb_rank\n",
              "0                            Intern  ...                   12,296\n",
              "1                      Data Analyst  ...                   300000\n",
              "2   Quantitative Analyst, Marketing  ...                      276\n",
              "3  Regional Business Analyst Intern  ...                    1,953\n",
              "4               Data Analyst Intern  ...                   42,439\n",
              "\n",
              "[5 rows x 12 columns]"
            ]
          },
          "metadata": {
            "tags": []
          },
          "execution_count": 31
        }
      ]
    },
    {
      "cell_type": "markdown",
      "metadata": {
        "id": "EpSAGkx3N-Fu",
        "colab_type": "text"
      },
      "source": [
        "Finding similarity between role names on whole words.\n",
        "\n",
        "See `ans2` for a summary of how many people's current role contains each keyword."
      ]
    },
    {
      "cell_type": "code",
      "metadata": {
        "id": "9Hd3aJnKmt2v",
        "colab_type": "code",
        "colab": {
          "base_uri": "https://localhost:8080/",
          "height": 289
        },
        "outputId": "d8340612-315d-478a-e6f2-5aead0a11598"
      },
      "source": [
        "def strip_word(word):\n",
        "  if pd.isnull(word) or word == '':\n",
        "    return ''\n",
        "\n",
        "  tmp = word\n",
        "  for num in '0123456789':\n",
        "    if word == num:\n",
        "      return ''\n",
        "\n",
        "  for punc in string.punctuation:\n",
        "    # TODO: account for double parens in front\n",
        "    yes = True\n",
        "    while yes:\n",
        "      before = tmp\n",
        "      tmp = tmp.replace(punc, '')\n",
        "      if tmp == before:\n",
        "        yes = False\n",
        "\n",
        "  tmp = tmp.replace(' ', '')\n",
        "  return tmp\n",
        "\n",
        "\n",
        "def nan_in_wrapper(a, b, case_sensitive=False):\n",
        "  \"\"\"\n",
        "  checks if a in b\n",
        "  \"\"\"\n",
        "  if pd.isnull(a) or pd.isnull(b):\n",
        "    return False\n",
        "  \n",
        "  if case_sensitive: \n",
        "    return a in b\n",
        "  else:  \n",
        "    return a.lower() in b.lower()\n",
        "\n",
        "\n",
        "unique_words_rolename = set()\n",
        "role_name_split_len = []\n",
        "\n",
        "for row in df_3[most_recent_role].to_dict('records'):\n",
        "  if pd.isnull(row['0th_role-name']):\n",
        "    continue\n",
        "  \n",
        "  splt = row['0th_role-name'].split(' ')\n",
        "  role_name_split_len.append(len(splt))\n",
        "\n",
        "  for word in splt:\n",
        "    stripped_word = strip_word(word=word)\n",
        "    if not stripped_word:\n",
        "      continue\n",
        "    \n",
        "    unique_words_rolename.add(stripped_word.lower())\n",
        "\n",
        "unique_words_rolename = sorted(list(unique_words_rolename))\n",
        "\n",
        "print('{} unique words in {} roles ({} words total)'.format(\n",
        "    len(unique_words_rolename), \n",
        "    len(df_3),\n",
        "    sum(role_name_split_len)\n",
        "))\n",
        "print('Average word count per role-name: {}'.format(np.average(role_name_split_len)))\n",
        "print('')\n",
        "\n",
        "ans = []\n",
        "role_name_col = [col for col in df_3.columns if 'role-name' in col][0]\n",
        "for word in unique_words_rolename:\n",
        "  ans.append(df_3[role_name_col].apply(\n",
        "      lambda x: nan_in_wrapper(word, strip_word(x)))\n",
        "  )\n",
        "\n",
        "ans2 = pd.concat(ans, axis=1)\n",
        "ans2.columns = unique_words_rolename\n",
        "print('Total people with current role name that includes keyword')\n",
        "ans2.sum().sort_values(ascending=False)"
      ],
      "execution_count": 32,
      "outputs": [
        {
          "output_type": "stream",
          "text": [
            "79 unique words in 76 roles (178 words total)\n",
            "Average word count per role-name: 2.870967741935484\n",
            "\n",
            "Total people with current role name that includes keyword\n"
          ],
          "name": "stdout"
        },
        {
          "output_type": "execute_result",
          "data": {
            "text/plain": [
              "data            21\n",
              "engineer        16\n",
              "analyst         12\n",
              "intern          11\n",
              "scientist       11\n",
              "                ..\n",
              "junior           1\n",
              "intelligence     1\n",
              "information      1\n",
              "human            1\n",
              "intel¬æ          1\n",
              "Length: 79, dtype: int64"
            ]
          },
          "metadata": {
            "tags": []
          },
          "execution_count": 32
        }
      ]
    },
    {
      "cell_type": "markdown",
      "metadata": {
        "id": "VTVM-CciOxN9",
        "colab_type": "text"
      },
      "source": [
        "Coincidences looks at the columns of `df_3` (the parsed experiences) that were easily one-hot encoded"
      ]
    },
    {
      "cell_type": "code",
      "metadata": {
        "id": "Hi97idviotQ_",
        "colab_type": "code",
        "colab": {
          "base_uri": "https://localhost:8080/",
          "height": 221
        },
        "outputId": "84edd412-86d4-4443-eeb9-6da116cdc221"
      },
      "source": [
        "df_2.head().iloc[0][1]"
      ],
      "execution_count": 33,
      "outputs": [
        {
          "output_type": "execute_result",
          "data": {
            "text/plain": [
              "{'1th_role-_duration_tdelta': Timedelta('79 days 12:42:01.957063'),\n",
              " '1th_role-_end_date': Timestamp('2020-08-19 12:42:01.957063'),\n",
              " '1th_role-_start_date': Timestamp('2020-06-01 00:00:00'),\n",
              " '1th_role-company_cb_rank': '13,447',\n",
              " '1th_role-company_id': 1,\n",
              " '1th_role-company_name': 'BANSEA',\n",
              " '1th_role-description': '',\n",
              " '1th_role-duration': 'Jun 2020 ‚Äì Present',\n",
              " '1th_role-duration_clean': 'Jun 2020  Present',\n",
              " '1th_role-location': '',\n",
              " '1th_role-name': 'Summer Intern',\n",
              " '1th_role-role_id': 1}"
            ]
          },
          "metadata": {
            "tags": []
          },
          "execution_count": 33
        }
      ]
    },
    {
      "cell_type": "code",
      "metadata": {
        "id": "jI4N1zmNRqa1",
        "colab_type": "code",
        "colab": {
          "base_uri": "https://localhost:8080/",
          "height": 258
        },
        "outputId": "4f75612d-373a-4053-fd96-258cdc886a18"
      },
      "source": [
        "# Looking at coincidences in location or company\n",
        "\n",
        "from sklearn.preprocessing import OneHotEncoder\n",
        "\n",
        "enc = OneHotEncoder()\n",
        "one_hot_features = df_3[one_hot_columns]\n",
        "one_hot_features.fillna(value='', inplace=True)\n",
        "onehots = enc.fit_transform(one_hot_features).toarray()\n",
        "\n",
        "# Number of people with something in common\n",
        "coincidences = pd.DataFrame(\n",
        "    data=onehots,\n",
        "    columns=enc.get_feature_names(input_features=one_hot_columns)\n",
        "  ).sum().sort_values(ascending=False)\n",
        "\n",
        "# printing summary of categories with > 1 person\n",
        "coincidences[(coincidences  > 1)]"
      ],
      "execution_count": 34,
      "outputs": [
        {
          "output_type": "stream",
          "text": [
            "/usr/local/lib/python3.6/dist-packages/pandas/core/frame.py:4153: SettingWithCopyWarning: \n",
            "A value is trying to be set on a copy of a slice from a DataFrame\n",
            "\n",
            "See the caveats in the documentation: https://pandas.pydata.org/pandas-docs/stable/user_guide/indexing.html#returning-a-view-versus-a-copy\n",
            "  downcast=downcast,\n"
          ],
          "name": "stderr"
        },
        {
          "output_type": "execute_result",
          "data": {
            "text/plain": [
              "0th_role-location_                                     28.0\n",
              "0th_role-company_name_                                 14.0\n",
              "0th_role-location_Singapore                            14.0\n",
              "0th_role-company_name_Bank of America Merrill Lynch     2.0\n",
              "0th_role-company_name_OMNO AI                           2.0\n",
              "0th_role-location_Mumbai Area, India                    2.0\n",
              "0th_role-location_Bengaluru, Karnataka                  2.0\n",
              "dtype: float64"
            ]
          },
          "metadata": {
            "tags": []
          },
          "execution_count": 34
        }
      ]
    },
    {
      "cell_type": "code",
      "metadata": {
        "id": "atvchcfXwjQ1",
        "colab_type": "code",
        "colab": {
          "base_uri": "https://localhost:8080/",
          "height": 255
        },
        "outputId": "2fcb4099-d367-4c08-a75e-3d64595f5517"
      },
      "source": [
        "df_3.columns"
      ],
      "execution_count": 41,
      "outputs": [
        {
          "output_type": "execute_result",
          "data": {
            "text/plain": [
              "Index(['0th_role-name', '0th_role-duration', '0th_role-location',\n",
              "       '0th_role-description', '0th_role-duration_clean',\n",
              "       '0th_role-_start_date', '0th_role-_end_date',\n",
              "       '0th_role-_duration_tdelta', '0th_role-role_id', '0th_role-company_id',\n",
              "       '0th_role-company_name', '0th_role-company_cb_rank', '1th_role-name',\n",
              "       '1th_role-duration', '1th_role-location', '1th_role-description',\n",
              "       '1th_role-duration_clean', '1th_role-_start_date', '1th_role-_end_date',\n",
              "       '1th_role-_duration_tdelta', '1th_role-role_id', '1th_role-company_id',\n",
              "       '1th_role-company_name', '1th_role-company_cb_rank', '2th_role-name',\n",
              "       '2th_role-duration', '2th_role-location', '2th_role-description',\n",
              "       '2th_role-duration_clean', '2th_role-_start_date', '2th_role-_end_date',\n",
              "       '2th_role-_duration_tdelta', '2th_role-role_id', '2th_role-company_id',\n",
              "       '2th_role-company_name', '2th_role-company_cb_rank'],\n",
              "      dtype='object')"
            ]
          },
          "metadata": {
            "tags": []
          },
          "execution_count": 41
        }
      ]
    },
    {
      "cell_type": "code",
      "metadata": {
        "id": "0dddlekSv7pJ",
        "colab_type": "code",
        "colab": {
          "base_uri": "https://localhost:8080/",
          "height": 86
        },
        "outputId": "9b00826b-849b-49da-ebff-8b7be84d4486"
      },
      "source": [
        "df_3[pd.isnull(df_3[\"0th_role-company_name\"])].dropna(how=\"all\")"
      ],
      "execution_count": 44,
      "outputs": [
        {
          "output_type": "execute_result",
          "data": {
            "text/html": [
              "<div>\n",
              "<style scoped>\n",
              "    .dataframe tbody tr th:only-of-type {\n",
              "        vertical-align: middle;\n",
              "    }\n",
              "\n",
              "    .dataframe tbody tr th {\n",
              "        vertical-align: top;\n",
              "    }\n",
              "\n",
              "    .dataframe thead th {\n",
              "        text-align: right;\n",
              "    }\n",
              "</style>\n",
              "<table border=\"1\" class=\"dataframe\">\n",
              "  <thead>\n",
              "    <tr style=\"text-align: right;\">\n",
              "      <th></th>\n",
              "      <th>0th_role-name</th>\n",
              "      <th>0th_role-duration</th>\n",
              "      <th>0th_role-location</th>\n",
              "      <th>0th_role-description</th>\n",
              "      <th>0th_role-duration_clean</th>\n",
              "      <th>0th_role-_start_date</th>\n",
              "      <th>0th_role-_end_date</th>\n",
              "      <th>0th_role-_duration_tdelta</th>\n",
              "      <th>0th_role-role_id</th>\n",
              "      <th>0th_role-company_id</th>\n",
              "      <th>0th_role-company_name</th>\n",
              "      <th>0th_role-company_cb_rank</th>\n",
              "      <th>1th_role-name</th>\n",
              "      <th>1th_role-duration</th>\n",
              "      <th>1th_role-location</th>\n",
              "      <th>1th_role-description</th>\n",
              "      <th>1th_role-duration_clean</th>\n",
              "      <th>1th_role-_start_date</th>\n",
              "      <th>1th_role-_end_date</th>\n",
              "      <th>1th_role-_duration_tdelta</th>\n",
              "      <th>1th_role-role_id</th>\n",
              "      <th>1th_role-company_id</th>\n",
              "      <th>1th_role-company_name</th>\n",
              "      <th>1th_role-company_cb_rank</th>\n",
              "      <th>2th_role-name</th>\n",
              "      <th>2th_role-duration</th>\n",
              "      <th>2th_role-location</th>\n",
              "      <th>2th_role-description</th>\n",
              "      <th>2th_role-duration_clean</th>\n",
              "      <th>2th_role-_start_date</th>\n",
              "      <th>2th_role-_end_date</th>\n",
              "      <th>2th_role-_duration_tdelta</th>\n",
              "      <th>2th_role-role_id</th>\n",
              "      <th>2th_role-company_id</th>\n",
              "      <th>2th_role-company_name</th>\n",
              "      <th>2th_role-company_cb_rank</th>\n",
              "    </tr>\n",
              "  </thead>\n",
              "  <tbody>\n",
              "  </tbody>\n",
              "</table>\n",
              "</div>"
            ],
            "text/plain": [
              "Empty DataFrame\n",
              "Columns: [0th_role-name, 0th_role-duration, 0th_role-location, 0th_role-description, 0th_role-duration_clean, 0th_role-_start_date, 0th_role-_end_date, 0th_role-_duration_tdelta, 0th_role-role_id, 0th_role-company_id, 0th_role-company_name, 0th_role-company_cb_rank, 1th_role-name, 1th_role-duration, 1th_role-location, 1th_role-description, 1th_role-duration_clean, 1th_role-_start_date, 1th_role-_end_date, 1th_role-_duration_tdelta, 1th_role-role_id, 1th_role-company_id, 1th_role-company_name, 1th_role-company_cb_rank, 2th_role-name, 2th_role-duration, 2th_role-location, 2th_role-description, 2th_role-duration_clean, 2th_role-_start_date, 2th_role-_end_date, 2th_role-_duration_tdelta, 2th_role-role_id, 2th_role-company_id, 2th_role-company_name, 2th_role-company_cb_rank]\n",
              "Index: []"
            ]
          },
          "metadata": {
            "tags": []
          },
          "execution_count": 44
        }
      ]
    },
    {
      "cell_type": "markdown",
      "metadata": {
        "id": "gtrguBogPrR3",
        "colab_type": "text"
      },
      "source": [
        "The above 3rd line reads, 14 people's most recent role based in Singapore.\n",
        "\n",
        "TODO: Remove the first 2 keys from this list: `0th_role-location_` and `0th_role-company_name_` which are roles that have no information for location or company_name.  Second thought, this is strange that a role would not have a company name.  Look into that."
      ]
    },
    {
      "cell_type": "markdown",
      "metadata": {
        "id": "1DTh95r4UjtS",
        "colab_type": "text"
      },
      "source": [
        "# Pre-process Data part 1, field: education\n"
      ]
    },
    {
      "cell_type": "markdown",
      "metadata": {
        "id": "gu9vP1gtqfOq",
        "colab_type": "text"
      },
      "source": [
        "1. Goal of this section is to flatten each column of nested fields into multiple columns\n",
        "\n",
        "2. A new row is only generated when there is a) a new individual b) a new survey response from an existing individual (what if an existing individual changes some details on his LinkedIn profile or changes his/her goals?)"
      ]
    },
    {
      "cell_type": "code",
      "metadata": {
        "id": "Q1urw7QyUl2z",
        "colab_type": "code",
        "colab": {
          "base_uri": "https://localhost:8080/",
          "height": 297
        },
        "outputId": "fdfe211f-d1dd-433c-ff2c-64e4a62f79ce"
      },
      "source": [
        "df_1.describe()"
      ],
      "execution_count": 35,
      "outputs": [
        {
          "output_type": "execute_result",
          "data": {
            "text/html": [
              "<div>\n",
              "<style scoped>\n",
              "    .dataframe tbody tr th:only-of-type {\n",
              "        vertical-align: middle;\n",
              "    }\n",
              "\n",
              "    .dataframe tbody tr th {\n",
              "        vertical-align: top;\n",
              "    }\n",
              "\n",
              "    .dataframe thead th {\n",
              "        text-align: right;\n",
              "    }\n",
              "</style>\n",
              "<table border=\"1\" class=\"dataframe\">\n",
              "  <thead>\n",
              "    <tr style=\"text-align: right;\">\n",
              "      <th></th>\n",
              "      <th>_id</th>\n",
              "    </tr>\n",
              "  </thead>\n",
              "  <tbody>\n",
              "    <tr>\n",
              "      <th>count</th>\n",
              "      <td>76.000000</td>\n",
              "    </tr>\n",
              "    <tr>\n",
              "      <th>mean</th>\n",
              "      <td>38.500000</td>\n",
              "    </tr>\n",
              "    <tr>\n",
              "      <th>std</th>\n",
              "      <td>22.083176</td>\n",
              "    </tr>\n",
              "    <tr>\n",
              "      <th>min</th>\n",
              "      <td>1.000000</td>\n",
              "    </tr>\n",
              "    <tr>\n",
              "      <th>25%</th>\n",
              "      <td>19.750000</td>\n",
              "    </tr>\n",
              "    <tr>\n",
              "      <th>50%</th>\n",
              "      <td>38.500000</td>\n",
              "    </tr>\n",
              "    <tr>\n",
              "      <th>75%</th>\n",
              "      <td>57.250000</td>\n",
              "    </tr>\n",
              "    <tr>\n",
              "      <th>max</th>\n",
              "      <td>76.000000</td>\n",
              "    </tr>\n",
              "  </tbody>\n",
              "</table>\n",
              "</div>"
            ],
            "text/plain": [
              "0            _id\n",
              "count  76.000000\n",
              "mean   38.500000\n",
              "std    22.083176\n",
              "min     1.000000\n",
              "25%    19.750000\n",
              "50%    38.500000\n",
              "75%    57.250000\n",
              "max    76.000000"
            ]
          },
          "metadata": {
            "tags": []
          },
          "execution_count": 35
        }
      ]
    },
    {
      "cell_type": "code",
      "metadata": {
        "id": "bBUEdnExcrvV",
        "colab_type": "code",
        "colab": {}
      },
      "source": [
        "# count the number of words in all rows\n",
        "# remove punctuation and split string into individual words\n",
        "\n",
        "def word_counter(i):\n",
        "  \n",
        "  # i is an array of rows for a particular field\n",
        "  word_count = dict()\n",
        "\n",
        "  for x in range(1,i.shape[0]):\n",
        "    j = df_1.loc[i,['education']][0].translate(str.maketrans('', '', string.punctuation)).split()\n",
        "  for k in j:\n",
        "    if k in word_count:\n",
        "      word_count[k] += 1\n",
        "    else:\n",
        "      word_count[k] = 1\n",
        "    return word_count"
      ],
      "execution_count": 45,
      "outputs": []
    },
    {
      "cell_type": "code",
      "metadata": {
        "id": "hBwLJf0dWscy",
        "colab_type": "code",
        "colab": {
          "base_uri": "https://localhost:8080/",
          "height": 255
        },
        "outputId": "9a0e7209-c50d-46d9-dcd9-f95ec57ffe38"
      },
      "source": [
        "schools_list_1 = []\n",
        "\n",
        "for i in range(1,df_1.shape[0]):\n",
        "  \n",
        "  # Check if there is a first school. If yes, extract the first school into a list to create a new column, else indicate 'no school'\n",
        "  if df_1.loc[i,['education']][0].find('\"school\": \"') == -1:\n",
        "    school_1 = 'no school'\n",
        "  else:\n",
        "    school_1 = (df_1.loc[i,['education']][0][\n",
        "      df_1.loc[i,['education']][0].find('\"school\": \"')+10:\n",
        "      df_1.loc[i,['education']][0].find('\", \"degree\":')                         \n",
        "      ])\n",
        "  schools_list_1.append(school_1)\n",
        "\n",
        "  # Check if there is a second school. If yes, extract the 2nd school into a list 'schools_list_2' for a subsequent column, else indicate 'n/a'\n",
        "\n",
        "\n",
        "# convert all \n",
        "print(pd.DataFrame(schools_list_1))"
      ],
      "execution_count": 46,
      "outputs": [
        {
          "output_type": "stream",
          "text": [
            "                                                    0\n",
            "0   \"Singapore University of Technology and Design...\n",
            "1                    \"Singapore Management University\n",
            "2                            \"University of Cambridge\n",
            "3                   \"National University of Singapore\n",
            "4                    \"Singapore Management University\n",
            "..                                                ...\n",
            "70                   \"Singhad Institute of Technology\n",
            "71       \"Sambhram Institute of Technology, BANGALORE\n",
            "72                                          no school\n",
            "73        \"African Institute of Mathematical Sciences\n",
            "74  \"National University of Computer and Emerging ...\n",
            "\n",
            "[75 rows x 1 columns]\n"
          ],
          "name": "stdout"
        }
      ]
    },
    {
      "cell_type": "markdown",
      "metadata": {
        "id": "aE1M0p7krZ1i",
        "colab_type": "text"
      },
      "source": [
        "## Next steps: \n",
        "\n",
        "- Clean up bug where companies dont exist. @cyan @qinglin\n",
        "- Add in crunchbase ID, if not substitute with another value. ie: 300k @kai\n",
        "- "
      ]
    },
    {
      "cell_type": "code",
      "metadata": {
        "id": "IptcbkJxuxPr",
        "colab_type": "code",
        "colab": {}
      },
      "source": [
        ""
      ],
      "execution_count": null,
      "outputs": []
    }
  ]
}